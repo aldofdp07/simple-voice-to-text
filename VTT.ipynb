{
 "cells": [
  {
   "cell_type": "code",
   "execution_count": 3,
   "metadata": {},
   "outputs": [
    {
     "name": "stdout",
     "output_type": "stream",
     "text": [
      "Collecting pyaudio\n",
      "  Downloading PyAudio-0.2.13-cp310-cp310-win_amd64.whl (164 kB)\n",
      "     -------------------------------------- 164.1/164.1 kB 1.6 MB/s eta 0:00:00\n",
      "Installing collected packages: pyaudio\n",
      "Successfully installed pyaudio-0.2.13\n",
      "Note: you may need to restart the kernel to use updated packages.\n"
     ]
    },
    {
     "name": "stderr",
     "output_type": "stream",
     "text": [
      "\n",
      "[notice] A new release of pip available: 22.2.1 -> 23.2.1\n",
      "[notice] To update, run: python.exe -m pip install --upgrade pip\n"
     ]
    }
   ],
   "source": [
    "pip install SpeechRecognition\n",
    "pip install pyaudio"
   ]
  },
  {
   "cell_type": "code",
   "execution_count": 5,
   "metadata": {},
   "outputs": [
    {
     "name": "stdout",
     "output_type": "stream",
     "text": [
      "Silakan bicara...\n",
      "Teks yang terdeteksi: Assalamualaikum\n"
     ]
    }
   ],
   "source": [
    "import speech_recognition as sr\n",
    "\n",
    "# Membuat objek recognizer\n",
    "recognizer = sr.Recognizer()\n",
    "\n",
    "# Merekam suara dari mikrofon\n",
    "with sr.Microphone() as source:\n",
    "    print(\"Silakan bicara...\")\n",
    "    audio = recognizer.listen(source)\n",
    "\n",
    "# Mencoba mengenali teks dari audio\n",
    "try:\n",
    "    text = recognizer.recognize_google(audio, language=\"id-ID\")  # Ganti \"id-ID\" dengan kode bahasa yang sesuai\n",
    "    print(\"Teks yang terdeteksi: \" + text)\n",
    "except sr.UnknownValueError:\n",
    "    print(\"Maaf, tidak dapat mengenali suara.\")\n",
    "except sr.RequestError as e:\n",
    "    print(f\"Error dalam permintaan API: {e}\")\n"
   ]
  }
 ],
 "metadata": {
  "kernelspec": {
   "display_name": "venv",
   "language": "python",
   "name": "python3"
  },
  "language_info": {
   "codemirror_mode": {
    "name": "ipython",
    "version": 3
   },
   "file_extension": ".py",
   "mimetype": "text/x-python",
   "name": "python",
   "nbconvert_exporter": "python",
   "pygments_lexer": "ipython3",
   "version": "3.10.6"
  },
  "orig_nbformat": 4
 },
 "nbformat": 4,
 "nbformat_minor": 2
}
